{
 "cells": [
  {
   "cell_type": "markdown",
   "id": "db408822-09e8-49f2-8b5a-fc15cc1620db",
   "metadata": {},
   "source": [
    "# Using the Arduino Nano for Chamber Control"
   ]
  },
  {
   "cell_type": "markdown",
   "id": "247f2b83-6790-4981-8622-c3c434a44f2d",
   "metadata": {},
   "source": [
    "## Pinout for the Nano"
   ]
  },
  {
   "cell_type": "markdown",
   "id": "7ed8ee5e-d63a-43a2-bc08-3ee3df3ca0e3",
   "metadata": {},
   "source": [
    "![Nano](Arduino-Nano-Pinout.jpg)"
   ]
  },
  {
   "cell_type": "code",
   "execution_count": null,
   "id": "1204df4a-d048-4392-983b-9fe4d4c0ed04",
   "metadata": {},
   "outputs": [],
   "source": []
  }
 ],
 "metadata": {
  "kernelspec": {
   "display_name": "Python 3 (ipykernel)",
   "language": "python",
   "name": "python3"
  },
  "language_info": {
   "codemirror_mode": {
    "name": "ipython",
    "version": 3
   },
   "file_extension": ".py",
   "mimetype": "text/x-python",
   "name": "python",
   "nbconvert_exporter": "python",
   "pygments_lexer": "ipython3",
   "version": "3.9.7"
  }
 },
 "nbformat": 4,
 "nbformat_minor": 5
}
